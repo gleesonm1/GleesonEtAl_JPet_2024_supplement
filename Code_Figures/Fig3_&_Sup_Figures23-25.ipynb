{
 "cells": [
  {
   "cell_type": "code",
   "execution_count": 1,
   "metadata": {},
   "outputs": [],
   "source": [
    "import numpy as np\n",
    "import pandas as pd\n",
    "import matplotlib.pyplot as plt\n",
    "import chemMap as cm"
   ]
  },
  {
   "cell_type": "code",
   "execution_count": 2,
   "metadata": {},
   "outputs": [],
   "source": [
    "Sample = {}\n",
    "color = {'03b': (0,0,0.56), '04b': 'b', '09g1': 'r', '09g2': 'y', '09g3': 'orange'}\n",
    "Sample['03b'] = cm.loadwt('Data/Linescans_HighResMapping/Maps/03b cpxopx5/')\n",
    "Sample['04b'] = cm.loadwt('Data/Linescans_HighResMapping/Maps/04b cpxopx5/')\n",
    "Sample['09g1'] = cm.loadwt('Data/Linescans_HighResMapping/Maps/09g1 cpxopx1/')\n",
    "Sample['09g2'] = cm.loadwt('Data/Linescans_HighResMapping/Maps/09g2 cpxopx3/')\n",
    "Sample['09g3'] = cm.loadwt('Data/Linescans_HighResMapping/Maps/09g3 cpxopx2/')"
   ]
  },
  {
   "cell_type": "code",
   "execution_count": 3,
   "metadata": {},
   "outputs": [],
   "source": [
    "line = {}\n",
    "line['03b'] = cm.loadtransect('Data/Linescans_HighResMapping/Linescans/03b/', ['Si', 'Ti', 'Al', 'Cr', 'Fe', 'Mn', 'Mg', 'Ca', 'Na', 'K'])\n",
    "line['09g1'] = cm.loadtransect('Data/Linescans_HighResMapping/Linescans/09g1/', ['Si', 'Ti', 'Al', 'Cr', 'Fe', 'Mn', 'Mg', 'Ca', 'Na', 'K'])\n",
    "line['09g2'] = cm.loadtransect('Data/Linescans_HighResMapping/Linescans/09g2/', ['Si', 'Ti', 'Al', 'Cr', 'Fe', 'Mn', 'Mg', 'Ca', 'Na', 'K'])\n",
    "line['09g3_1'] = cm.loadtransect('Data/Linescans_HighResMapping/Linescans/09g3_1/', ['Si', 'Ti', 'Al', 'Cr', 'Fe', 'Mn', 'Mg', 'Ca', 'Na', 'K'])\n",
    "line['09g3_2'] = cm.loadtransect('Data/Linescans_HighResMapping/Linescans/09g3_2/', ['Si', 'Ti', 'Al', 'Cr', 'Fe', 'Mn', 'Mg', 'Ca', 'Na', 'K'])"
   ]
  },
  {
   "cell_type": "markdown",
   "metadata": {},
   "source": [
    "# Sample 03b"
   ]
  },
  {
   "cell_type": "code",
   "execution_count": 4,
   "metadata": {},
   "outputs": [],
   "source": [
    "f, a = cm.plot_CompositionMap(Data = Sample['03b'], \n",
    "                       Element = [\"Mg\", \"Ca\", \"Al\"], \n",
    "                       cmap = {\"Mg\": (0,0,0.56,1), \"Ca\": \"y\", \"Al\": (0.56,0,0,1)}, \n",
    "                       background = 'k',\n",
    "                       Resolution = 1.5)"
   ]
  },
  {
   "cell_type": "code",
   "execution_count": 5,
   "metadata": {},
   "outputs": [],
   "source": [
    "El = {'SiO2': 'gold', 'Al2O3': (0.4,0.4,0.4), 'FeO': (0,0,0.56), 'MgO': (0,0,1), 'CaO': 'y', 'Na2O': 'brown', 'K2O': 'red', 'TiO2': (0.45,0,0), 'Cr2O3': 'k'}\n",
    "f, a = plt.subplots(1,1,figsize = (10,3))\n",
    "for e in El:\n",
    "    a.plot(line['03b']['Distance'], line['03b'][e], '-', color = El[e], label = e)\n",
    "\n",
    "a.set_xlabel('Distance $\\mu$m')\n",
    "a.set_ylabel('Oxide (wt%)')\n",
    "a.legend(bbox_to_anchor=(1.01, 0.95))"
   ]
  },
  {
   "cell_type": "markdown",
   "metadata": {},
   "source": [
    "# Sample 04b"
   ]
  },
  {
   "cell_type": "code",
   "execution_count": 6,
   "metadata": {},
   "outputs": [],
   "source": [
    "f, a = cm.plot_CompositionMap(Data = Sample['04b'], \n",
    "                       Element = [\"Mg\", \"Ca\", \"Al\"], \n",
    "                       cmap = {\"Mg\": (0,0,0.56,1), \"Ca\": \"y\", \"Al\": (0.56,0,0,1)}, \n",
    "                       background = 'k',\n",
    "                       Resolution = 1.5)"
   ]
  },
  {
   "cell_type": "markdown",
   "metadata": {},
   "source": [
    "# Sample 09g1"
   ]
  },
  {
   "cell_type": "code",
   "execution_count": 7,
   "metadata": {},
   "outputs": [],
   "source": [
    "f, a = cm.plot_CompositionMap(Data = Sample['09g1'], \n",
    "                       Element = [\"Mg\", \"Na\", \"Al\"], \n",
    "                       cmap = {\"Mg\": (0,0,0.56,1), \"Na\": \"y\", \"Al\": (0.56,0,0,1)}, \n",
    "                       background = 'k',\n",
    "                       Resolution = 1.5)"
   ]
  },
  {
   "cell_type": "code",
   "execution_count": 8,
   "metadata": {},
   "outputs": [],
   "source": [
    "El = {'SiO2': 'gold', 'Al2O3': (0.4,0.4,0.4), 'FeO': (0,0,0.56), 'MgO': (0,0,1), 'CaO': 'y', 'Na2O': 'brown', 'K2O': 'red', 'TiO2': (0.45,0,0), 'Cr2O3': 'k'}\n",
    "f, a = plt.subplots(1,1,figsize = (10,3))\n",
    "for e in El:\n",
    "    a.plot(line['09g1']['Distance'], line['09g1'][e], '-', color = El[e], label = e)\n",
    "\n",
    "a.set_xlabel('Distance $\\mu$m')\n",
    "a.set_ylabel('Oxide (wt%)')\n",
    "a.legend(bbox_to_anchor=(1.01, 0.95))"
   ]
  },
  {
   "cell_type": "markdown",
   "metadata": {},
   "source": [
    "# Sample 09g2"
   ]
  },
  {
   "cell_type": "code",
   "execution_count": 9,
   "metadata": {},
   "outputs": [],
   "source": [
    "f, a = cm.plot_CompositionMap(Data = Sample['09g2'], \n",
    "                       Element = [\"Mg\", \"Na\", \"Al\"], \n",
    "                       cmap = {\"Mg\": (0,0,0.56,1), \"Na\": \"y\", \"Al\": (0.56,0,0,1)}, \n",
    "                       background = 'k',\n",
    "                       Resolution = 1.5)"
   ]
  },
  {
   "cell_type": "code",
   "execution_count": 10,
   "metadata": {},
   "outputs": [],
   "source": [
    "El = {'SiO2': 'gold', 'Al2O3': (0.4,0.4,0.4), 'FeO': (0,0,0.56), 'MgO': (0,0,1), 'CaO': 'y', 'Na2O': 'brown', 'K2O': 'red', 'TiO2': (0.45,0,0), 'Cr2O3': 'k'}\n",
    "f, a = plt.subplots(1,1,figsize = (10,3))\n",
    "for e in El:\n",
    "    a.plot(line['09g2']['Distance'], line['09g2'][e], '-', color = El[e], label = e)\n",
    "\n",
    "a.set_xlabel('Distance $\\mu$m')\n",
    "a.set_ylabel('Oxide (wt%)')\n",
    "a.legend(bbox_to_anchor=(1.01, 0.95))"
   ]
  },
  {
   "cell_type": "markdown",
   "metadata": {},
   "source": [
    "# Sample 09g3"
   ]
  },
  {
   "cell_type": "code",
   "execution_count": 11,
   "metadata": {},
   "outputs": [],
   "source": [
    "f, a = cm.plot_CompositionMap(Data = Sample['09g3'], \n",
    "                       Element = [\"Mg\", \"Na\", \"Al\"], \n",
    "                       cmap = {\"Mg\": (0,0,0.56,1), \"Na\": \"y\", \"Al\": (0.56,0,0,1)}, \n",
    "                       background = 'k',\n",
    "                       Resolution = 1.5)"
   ]
  },
  {
   "cell_type": "code",
   "execution_count": 12,
   "metadata": {},
   "outputs": [],
   "source": [
    "El = {'SiO2': 'gold', 'Al2O3': (0.4,0.4,0.4), 'FeO': (0,0,0.56), 'MgO': (0,0,1), 'CaO': 'y', 'Na2O': 'brown', 'K2O': 'red', 'TiO2': (0.45,0,0), 'Cr2O3': 'k'}\n",
    "f, a = plt.subplots(2,1,figsize = (10,6.5))\n",
    "for e in El:\n",
    "    a[0].plot(line['09g3_1']['Distance'], line['09g3_1'][e], '-', color = El[e], label = e)\n",
    "    a[1].plot(line['09g3_2']['Distance'], line['09g3_2'][e], '-', color = El[e], label = e)\n",
    "\n",
    "a[1].set_xlabel('Distance $\\mu$m')\n",
    "a[0].set_ylabel('Oxide (wt%)')\n",
    "a[1].set_ylabel('Oxide (wt%)')\n",
    "a[0].legend(bbox_to_anchor=(1.01, 0.95))"
   ]
  }
 ],
 "metadata": {
  "kernelspec": {
   "display_name": "base",
   "language": "python",
   "name": "python3"
  },
  "language_info": {
   "codemirror_mode": {
    "name": "ipython",
    "version": 3
   },
   "file_extension": ".py",
   "mimetype": "text/x-python",
   "name": "python",
   "nbconvert_exporter": "python",
   "pygments_lexer": "ipython3",
   "version": "3.11.0"
  },
  "orig_nbformat": 4
 },
 "nbformat": 4,
 "nbformat_minor": 2
}
