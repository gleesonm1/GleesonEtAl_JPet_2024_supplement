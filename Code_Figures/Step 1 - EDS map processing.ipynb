{
 "cells": [
  {
   "cell_type": "markdown",
   "id": "7eb62866",
   "metadata": {},
   "source": [
    "# EDS map processing"
   ]
  },
  {
   "cell_type": "code",
   "execution_count": null,
   "id": "bfd46d45",
   "metadata": {},
   "outputs": [],
   "source": [
    "# !pip install \"https://github.com/gleesonm1/chemMap/archive/refs/tags/v0.0.3.zip\""
   ]
  },
  {
   "cell_type": "code",
   "execution_count": 1,
   "id": "5a0012bb",
   "metadata": {},
   "outputs": [],
   "source": [
    "import numpy as np\n",
    "import pandas as pd\n",
    "import matplotlib.pyplot as plt\n",
    "import chemMap as cm\n",
    "import mineralML as mm\n",
    "\n",
    "# this allows figures to be saved as svg files with the text preserved\n",
    "plt.rcParams['svg.fonttype'] = 'none'\n",
    "# %matplotlib inline\n",
    "# %config InlineBackend.figure_format = 'retina'\n"
   ]
  },
  {
   "cell_type": "code",
   "execution_count": 2,
   "id": "cc577604",
   "metadata": {},
   "outputs": [],
   "source": [
    "# loads in wt% data for each element\n",
    "Samples = dict.fromkeys(['03b', '04b', '09g1', '09g2', '09g3'])\n",
    "for s in Samples:\n",
    "    Samples[s] = cm.loadwt('Data/LargeScaleMaps/Gabbro Samples/' + s + '/Quant/')"
   ]
  },
  {
   "cell_type": "code",
   "execution_count": 3,
   "id": "505df551",
   "metadata": {},
   "outputs": [],
   "source": [
    "# converts to wt% for each oxide\n",
    "Quant = dict.fromkeys(list(Samples.keys()))\n",
    "for s in Samples:\n",
    "    Quant[s] = cm.calcOxides(Samples[s], list(Samples[s].keys()))"
   ]
  },
  {
   "cell_type": "code",
   "execution_count": 4,
   "id": "aae49ce5",
   "metadata": {},
   "outputs": [],
   "source": [
    "# unnormalized data so calculates a total for each pixel\n",
    "for s in Quant:\n",
    "    Total = np.zeros(np.shape(Samples[s]['Na']))\n",
    "    for e in list(Quant[s].keys()):\n",
    "        Total = Total + Quant[s][e]\n",
    "        \n",
    "    Quant[s]['Total'] = Total"
   ]
  },
  {
   "cell_type": "code",
   "execution_count": 5,
   "id": "5b33aa45",
   "metadata": {},
   "outputs": [],
   "source": [
    "# sets up flat dataframe for each sample and renames FeO to FeOt\n",
    "DF = {}\n",
    "for s in Quant:\n",
    "    Em = np.zeros((len(Quant[s]['SiO2'].flatten()),len(Quant[s].keys())))\n",
    "    for i in range(len(list(Quant[s].keys()))):\n",
    "        Em[:,i] = Quant[s][list(Quant[s].keys())[i]].flatten()\n",
    "\n",
    "    df = pd.DataFrame(data = Em, columns = list(Quant[s].keys()))\n",
    "    df = df.rename(columns={\"FeO\": \"FeOt\"})\n",
    "    \n",
    "    DF[s] = df"
   ]
  },
  {
   "cell_type": "code",
   "execution_count": 6,
   "id": "a5b4218d",
   "metadata": {},
   "outputs": [],
   "source": [
    "# mineralML - I did this with v0.0.0.5, might need updating?\n",
    "DF_pred = {}\n",
    "for s in Quant:\n",
    "    df_pred_nn, probability_matrix = mm.predict_class_prob_nn(DF[s])\n",
    "    DF_pred[s] = df_pred_nn"
   ]
  },
  {
   "cell_type": "code",
   "execution_count": 7,
   "id": "3c887d63",
   "metadata": {},
   "outputs": [],
   "source": [
    "# set low prob to nan\n",
    "for s in Quant:\n",
    "    DF_pred[s].loc[DF_pred[s]['Predict_Probability'] < 0.6,'Predict_Mineral'] = \"nan\""
   ]
  },
  {
   "cell_type": "code",
   "execution_count": 8,
   "id": "70958b3c",
   "metadata": {},
   "outputs": [],
   "source": [
    "Minerals = {}\n",
    "for s in Quant:\n",
    "    Minerals[s] = list(DF_pred[s]['Predict_Mineral'].unique())\n",
    "    Minerals[s].remove(\"nan\")"
   ]
  },
  {
   "cell_type": "code",
   "execution_count": 9,
   "id": "6ed73fbe",
   "metadata": {},
   "outputs": [],
   "source": [
    "# assign minerals to np.array with correct shape\n",
    "for s in Quant:\n",
    "    Quant[s]['Mineral'] = DF_pred[s]['Predict_Mineral'].values.reshape(np.shape(Quant[s]['SiO2']))\n",
    "    Quant[s]['PhaseProb'] = DF_pred[s]['Predict_Probability'].values.reshape(np.shape(Quant[s]['SiO2']))"
   ]
  },
  {
   "cell_type": "code",
   "execution_count": 10,
   "id": "ac0bac9d",
   "metadata": {},
   "outputs": [],
   "source": [
    "import pickle\n",
    "with open('GalapGabbrosQuantData.pkl', 'wb') as f:\n",
    "    pickle.dump(Quant, f)"
   ]
  }
 ],
 "metadata": {
  "kernelspec": {
   "display_name": "Python 3 (ipykernel)",
   "language": "python",
   "name": "python3"
  },
  "language_info": {
   "codemirror_mode": {
    "name": "ipython",
    "version": 3
   },
   "file_extension": ".py",
   "mimetype": "text/x-python",
   "name": "python",
   "nbconvert_exporter": "python",
   "pygments_lexer": "ipython3",
   "version": "3.11.0"
  }
 },
 "nbformat": 4,
 "nbformat_minor": 5
}
