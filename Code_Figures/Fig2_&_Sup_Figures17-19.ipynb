{
 "cells": [
  {
   "cell_type": "code",
   "execution_count": 1,
   "metadata": {},
   "outputs": [],
   "source": [
    "import numpy as np\n",
    "import pandas as pd\n",
    "import matplotlib.pyplot as plt\n",
    "import chemMap as cm\n",
    "import mineralML as mm\n",
    "\n",
    "# this allows figures to be saved as svg files with the text preserved\n",
    "plt.rcParams['svg.fonttype'] = 'none'\n",
    "# %matplotlib inline\n",
    "# %config InlineBackend.figure_format = 'retina'"
   ]
  },
  {
   "cell_type": "code",
   "execution_count": 2,
   "metadata": {},
   "outputs": [],
   "source": [
    "import pickle\n",
    "with open('GalapGabbrosQuantData.pkl', 'rb') as f:\n",
    "    Quant = pickle.load(f)"
   ]
  },
  {
   "cell_type": "code",
   "execution_count": 3,
   "metadata": {},
   "outputs": [],
   "source": [
    "# plot phase maps\n",
    "for s in Quant:\n",
    "    cm.plot_PhaseMap(Data = Quant[s], Phases = {'Plagioclase': (0.1,0.1,1), \n",
    "                                                'Clinopyroxene': (0.2,1,0.2), \n",
    "                                                'Orthopyroxene': (0.1,0.56,0.1), \n",
    "                                                'Spinel': (1,0.8,0.8), \n",
    "                                                'Olivine': (1, 1, 0)}, \n",
    "                                      background = 'k',\n",
    "                                      Resolution = 25)"
   ]
  },
  {
   "cell_type": "code",
   "execution_count": 4,
   "metadata": {},
   "outputs": [],
   "source": [
    "# plot histograms\n",
    "for s in Quant:\n",
    "    Phases = ['Olivine', 'Clinopyroxene', 'Orthopyroxene', 'Plagioclase', 'Spinel']\n",
    "    # Initialize an empty list to store the lengths\n",
    "    lengths = []\n",
    "\n",
    "    # Loop through each phase\n",
    "    for phase in Phases:\n",
    "        # Count occurrences and flatten the result\n",
    "        count = len(Quant[s]['PhaseProb'][Quant[s]['Mineral'] == phase].flatten())\n",
    "        \n",
    "        # Append the count to the list\n",
    "        lengths.append(count)\n",
    "\n",
    "    f, a = plt.subplots(1,5, figsize = (6,2), sharey = True)\n",
    "    f.tight_layout()\n",
    "    a[0].set_ylim([0.8, 1])\n",
    "    a[0].set_ylabel('Predicted Probability', fontsize = 8)\n",
    "\n",
    "    for i in range(len(Phases)):\n",
    "        a[i].hist(Quant[s]['PhaseProb'][Quant[s]['Mineral'] == Phases[i]], orientation = \"horizontal\", bins = 1000)\n",
    "\n",
    "        a[i].set_title(Phases[i] + ' \\n ' + str(round(100*lengths[i]/np.sum(lengths), 1)) + ' %', fontsize = 8)\n",
    "        a[i].set_xlabel('No. of pixels', fontsize = 8)\n",
    "        a[i].tick_params(axis='both', labelsize=8)\n"
   ]
  }
 ],
 "metadata": {
  "kernelspec": {
   "display_name": "base",
   "language": "python",
   "name": "python3"
  },
  "language_info": {
   "codemirror_mode": {
    "name": "ipython",
    "version": 3
   },
   "file_extension": ".py",
   "mimetype": "text/x-python",
   "name": "python",
   "nbconvert_exporter": "python",
   "pygments_lexer": "ipython3",
   "version": "3.11.0"
  },
  "orig_nbformat": 4
 },
 "nbformat": 4,
 "nbformat_minor": 2
}
