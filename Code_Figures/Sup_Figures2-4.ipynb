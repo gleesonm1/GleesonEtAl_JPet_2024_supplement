{
 "cells": [
  {
   "cell_type": "markdown",
   "id": "7eb62866",
   "metadata": {},
   "source": [
    "# EDS map quantification and phase analysis"
   ]
  },
  {
   "cell_type": "code",
   "execution_count": 1,
   "id": "5a0012bb",
   "metadata": {},
   "outputs": [],
   "source": [
    "import numpy as np\n",
    "import pandas as pd\n",
    "import matplotlib.pyplot as plt\n",
    "import chemMap as cm\n",
    "import mineralML as mm\n",
    "\n",
    "\n",
    "%matplotlib inline\n",
    "%config InlineBackend.figure_format = 'retina'\n"
   ]
  },
  {
   "cell_type": "markdown",
   "id": "85b66dae",
   "metadata": {},
   "source": [
    "Load standard data, true standard compositions and create calibration lines (\"apply_correction = False\" indicates that no correction will be applied to the data on the basis of these standard analyses)"
   ]
  },
  {
   "cell_type": "code",
   "execution_count": 2,
   "id": "27028abc",
   "metadata": {},
   "outputs": [],
   "source": [
    "Minerals, Stds, Stds_raw, base_corr, base_inte = cm.create_calibration('Data/LargeScaleMaps/Standards/', background_correction = True, apply_correction = False)"
   ]
  },
  {
   "cell_type": "markdown",
   "id": "1ca16725",
   "metadata": {},
   "source": [
    "Use these calibration lines to calculate the apparent concentration of the standards from the performed analyses."
   ]
  },
  {
   "cell_type": "code",
   "execution_count": 3,
   "id": "420f4994",
   "metadata": {},
   "outputs": [],
   "source": [
    "Conc = cm.check_stds(Minerals, base_corr, base_inte)"
   ]
  },
  {
   "cell_type": "markdown",
   "id": "baff23b0",
   "metadata": {},
   "source": [
    "Plot the calibration lines against the standard compositions."
   ]
  },
  {
   "cell_type": "code",
   "execution_count": 1,
   "id": "38ab4268",
   "metadata": {},
   "outputs": [],
   "source": [
    "el = [['Si', 'Ti', 'Al'],['Cr', 'Fe', 'Mg'],['Ca', 'Na', 'K']]\n",
    "MFC={'Feldspar': 'blue', 'Glass': [0.8,0.8,0.8], 'Garnet': 'red', 'Olivine': 'yellow', 'Pyroxene': 'green'}\n",
    "cm.plot_std_corr(Stds, Stds_raw, el, base_corr, base_inte, MFC = MFC)"
   ]
  },
  {
   "cell_type": "markdown",
   "id": "ab990ccf",
   "metadata": {},
   "source": [
    "Compare the predicted compositions against the known standard compositions"
   ]
  },
  {
   "cell_type": "code",
   "execution_count": 2,
   "id": "968a65eb",
   "metadata": {},
   "outputs": [],
   "source": [
    "Single, Multi = cm.plot_std_comparison(Conc, Stds, el, Group = 25, output=True)"
   ]
  },
  {
   "cell_type": "code",
   "execution_count": 3,
   "id": "9312f5ad",
   "metadata": {},
   "outputs": [],
   "source": [
    "from mpl_toolkits.axes_grid1.inset_locator import inset_axes\n",
    "\n",
    "rel_error = 100*Single/Stds.set_index('Standard').loc[:,Single.keys()]\n",
    "rel_error_multi = 100*Multi/Stds.set_index('Standard').loc[:,Multi.keys()]\n",
    "f, a = plt.subplots(1,1)\n",
    "a.plot(Stds.set_index('Standard').loc[:,Single.keys()], rel_error, 'ok')\n",
    "a.plot(Stds.set_index('Standard').loc[:,Multi.keys()], rel_error_multi, 'ok', mfc = 'r')\n",
    "a.set_ylim([-4,66.70])\n",
    "a.set_xlabel('Preferred Value of Standard (wt%)')\n",
    "a.set_ylabel('Calculated 1$\\sigma$ uncertainty')\n",
    "\n",
    "rect = plt.Rectangle((-1, -2), 11, 22, edgecolor='k', facecolor='none', lw=2)\n",
    "a.add_patch(rect)\n",
    "\n",
    "ax_inset = inset_axes(a, width=\"60%\", height=\"50%\", loc='upper right')\n",
    "ax_inset.plot(Stds.set_index('Standard').loc[:, Single.keys()], rel_error, 'ok', label = 'Single Pixel')\n",
    "ax_inset.plot(Stds.set_index('Standard').loc[:, Multi.keys()], rel_error_multi, 'ok', mfc='r', label = '25 Pixels')\n",
    "ax_inset.set_xlim([-1, 10])\n",
    "ax_inset.set_ylim([-2, 20])\n"
   ]
  },
  {
   "cell_type": "code",
   "execution_count": null,
   "id": "d15805ff",
   "metadata": {},
   "outputs": [],
   "source": []
  }
 ],
 "metadata": {
  "kernelspec": {
   "display_name": "Python 3 (ipykernel)",
   "language": "python",
   "name": "python3"
  },
  "language_info": {
   "codemirror_mode": {
    "name": "ipython",
    "version": 3
   },
   "file_extension": ".py",
   "mimetype": "text/x-python",
   "name": "python",
   "nbconvert_exporter": "python",
   "pygments_lexer": "ipython3",
   "version": "3.11.0"
  }
 },
 "nbformat": 4,
 "nbformat_minor": 5
}
